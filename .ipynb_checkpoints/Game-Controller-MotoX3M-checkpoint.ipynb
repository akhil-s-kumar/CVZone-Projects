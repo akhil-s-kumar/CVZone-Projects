{
 "cells": [
  {
   "cell_type": "code",
   "execution_count": 35,
   "id": "8380c7e7",
   "metadata": {},
   "outputs": [],
   "source": [
    "import cv2\n",
    "from cvzone.HandTrackingModule import HandDetector\n",
    "from pynput.keyboard import Key , Controller"
   ]
  },
  {
   "cell_type": "code",
   "execution_count": 36,
   "id": "245118cd",
   "metadata": {},
   "outputs": [],
   "source": [
    "#to detect hand\n",
    "detect = HandDetector(detectionCon = 0.7 , maxHands = 1)\n",
    "#initialize keyboard\n",
    "keyboard = Controller()"
   ]
  },
  {
   "cell_type": "code",
   "execution_count": 37,
   "id": "17338011",
   "metadata": {},
   "outputs": [],
   "source": [
    "#initialize video cap device (0 for inbuild cam)\n",
    "cap = cv2.VideoCapture(0)"
   ]
  },
  {
   "cell_type": "code",
   "execution_count": 38,
   "id": "5c834beb",
   "metadata": {},
   "outputs": [],
   "source": [
    "while True:\n",
    "    #ret returns true if frame is available\n",
    "    ret, frame = cap.read()\n",
    "    #to detect hand from the frame\n",
    "    hands , frame = detect.findHands(frame)\n",
    "    if hands:\n",
    "        fingers = detect.fingersUp(hands[0])\n",
    "        if fingers == [0,0,0,0,0]:\n",
    "            keyboard.press(Key.down) \n",
    "            keyboard.release(Key.up)\n",
    "            keyboard.release(Key.left)\n",
    "            keyboard.release(Key.right)\n",
    "        elif fingers == [1,1,1,1,1]:\n",
    "            keyboard.press(Key.up)\n",
    "            keyboard.release(Key.down)\n",
    "            keyboard.release(Key.left)\n",
    "            keyboard.release(Key.right)\n",
    "        elif fingers == [0,1,1,1,1]:\n",
    "            keyboard.press(Key.left)\n",
    "            keyboard.release(Key.up)\n",
    "            keyboard.release(Key.down)\n",
    "            keyboard.release(Key.right)\n",
    "        elif fingers == [1,1,1,1,0]:\n",
    "            keyboard.press(Key.right)\n",
    "            keyboard.release(Key.up)\n",
    "            keyboard.release(Key.down)\n",
    "            keyboard.release(Key.left)\n",
    "    else :\n",
    "        keyboard.release(Key.up)\n",
    "        keyboard.release(Key.down)\n",
    "        keyboard.release(Key.left)\n",
    "        keyboard.release(Key.right)\n",
    "    cv2.imshow(\"Moto X3M Controller | Build by Akhil S Kumar\" , frame)\n",
    "    if cv2.waitKey(1) == ord(\"q\"):\n",
    "        break\n",
    "        \n",
    "cap.release()\n",
    "cv2.destroyAllWindows()   "
   ]
  },
  {
   "cell_type": "code",
   "execution_count": null,
   "id": "41ff023f",
   "metadata": {},
   "outputs": [],
   "source": []
  }
 ],
 "metadata": {
  "kernelspec": {
   "display_name": "Python 3 (ipykernel)",
   "language": "python",
   "name": "python3"
  },
  "language_info": {
   "codemirror_mode": {
    "name": "ipython",
    "version": 3
   },
   "file_extension": ".py",
   "mimetype": "text/x-python",
   "name": "python",
   "nbconvert_exporter": "python",
   "pygments_lexer": "ipython3",
   "version": "3.9.7"
  }
 },
 "nbformat": 4,
 "nbformat_minor": 5
}
